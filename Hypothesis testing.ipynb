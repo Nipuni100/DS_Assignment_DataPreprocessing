{
 "cells": [
  {
   "cell_type": "code",
   "execution_count": 1,
   "id": "b92b8496",
   "metadata": {},
   "outputs": [],
   "source": [
    "import scipy.stats as stats\n",
    "import pandas as pd\n",
    "from scipy.stats import chi2_contingency"
   ]
  },
  {
   "cell_type": "code",
   "execution_count": 3,
   "id": "5e11e6d0",
   "metadata": {},
   "outputs": [],
   "source": [
    "df=pd.read_csv(\"stat.csv\")"
   ]
  },
  {
   "cell_type": "code",
   "execution_count": 4,
   "id": "8387b681",
   "metadata": {},
   "outputs": [
    {
     "data": {
      "text/plain": [
       "Index(['Timestamp', 'Gender', 'Age', 'Education level', 'Field of occupation',\n",
       "       'Occupation level', 'Country of Residence',\n",
       "       'Which of the following mobile phone app uses AI in its operations',\n",
       "       'Can an AI tool determine if you have risk of Pneumonia by examining your chest x-rays?',\n",
       "       'When you try to unlock your mobile phone using a pin, does an underline AI tool make that decision?',\n",
       "       'Think about the advertisements you see when you are on the internet. Are those selected by AI tools?',\n",
       "       'Assume that an AI system makes decisions for you in your day-to-day activities. How important is it to know the reasons behind such decisions?',\n",
       "       'Assume that an AI system makes decisions for you in your day-to-day activities. When do you need an explanation for such a decision?',\n",
       "       'A person is discharged from the hospital after a hospital stay of more than a week. An AI system predicts that he will be readmitted within the next 30 days.',\n",
       "       'An online clothing store recommends dresses to its customer with the help of an AI system. Suppose this system recommends the dress in Figure 1',\n",
       "       'A company decides the salary of its new recruits using an AI system. For one employee the AI systems decided to pay less than $50k per annum. ',\n",
       "       'An AI system developed to recognize different pets has recognized the animal in Figure 1 as a Cat.',\n",
       "       'Decisions made by different AI systems may have different impacts on you, e.g., financial impact or medical impact. AI systems with which impact needs the most explanations? Rank from the impact that needs the most explanation to the least. (1 - most, 5 - least). [Financial impact]',\n",
       "       'Decisions made by different AI systems may have different impacts on you, e.g., financial impact or medical impact. AI systems with which impact needs the most explanations? Rank from the impact that needs the most explanation to the least. (1 - most, 5 - least). [Medical impact]',\n",
       "       'Decisions made by different AI systems may have different impacts on you, e.g., financial impact or medical impact. AI systems with which impact needs the most explanations? Rank from the impact that needs the most explanation to the least. (1 - most, 5 - least). [Legal impact]',\n",
       "       'Decisions made by different AI systems may have different impacts on you, e.g., financial impact or medical impact. AI systems with which impact needs the most explanations? Rank from the impact that needs the most explanation to the least. (1 - most, 5 - least). [Social posting  impact (fb/ig)]',\n",
       "       'Decisions made by different AI systems may have different impacts on you, e.g., financial impact or medical impact. AI systems with which impact needs the most explanations? Rank from the impact that needs the most explanation to the least. (1 - most, 5 - least). [Time Wasted]',\n",
       "       'Which kind of explanations about the AI system would you like to see? ',\n",
       "       'What kind of explanation is more useful for you?',\n",
       "       'Consider the following scenarios where AI systems make decisions. Rank the scenarios from the one needing explanations most to the least.(1 - most, 5 - least) [A surveillance system detecting suspicious person at public places.]',\n",
       "       'Consider the following scenarios where AI systems make decisions. Rank the scenarios from the one needing explanations most to the least.(1 - most, 5 - least) [A smartwatch detecting Atrial fibrillation (a common heart rhythm disorder that elevates stroke risk) in stroke survivors.]',\n",
       "       'Consider the following scenarios where AI systems make decisions. Rank the scenarios from the one needing explanations most to the least.(1 - most, 5 - least) [A remote monitoring systems in tunnels alerting maintenance requirements.]',\n",
       "       'Consider the following scenarios where AI systems make decisions. Rank the scenarios from the one needing explanations most to the least.(1 - most, 5 - least) [An intelligent virtual assistant helping to operate home appliances.]',\n",
       "       'Consider the following scenarios where AI systems make decisions. Rank the scenarios from the one needing explanations most to the least.(1 - most, 5 - least) [A parking slot recommendation systems in the city area.]',\n",
       "       'I expect explanations to be',\n",
       "       'Are there any comments or concerns you would like to raise about XAI?'],\n",
       "      dtype='object')"
      ]
     },
     "execution_count": 4,
     "metadata": {},
     "output_type": "execute_result"
    }
   ],
   "source": [
    "df.columns"
   ]
  },
  {
   "cell_type": "code",
   "execution_count": 5,
   "id": "00d26dab",
   "metadata": {},
   "outputs": [],
   "source": [
    "df_xai = df[['Gender','Age','Education level','Field of occupation', 'Occupation level','Assume that an AI system makes decisions for you in your day-to-day activities. How important is it to know the reasons behind such decisions?']]"
   ]
  },
  {
   "cell_type": "code",
   "execution_count": 6,
   "id": "a9786679",
   "metadata": {},
   "outputs": [
    {
     "data": {
      "text/html": [
       "<div>\n",
       "<style scoped>\n",
       "    .dataframe tbody tr th:only-of-type {\n",
       "        vertical-align: middle;\n",
       "    }\n",
       "\n",
       "    .dataframe tbody tr th {\n",
       "        vertical-align: top;\n",
       "    }\n",
       "\n",
       "    .dataframe thead th {\n",
       "        text-align: right;\n",
       "    }\n",
       "</style>\n",
       "<table border=\"1\" class=\"dataframe\">\n",
       "  <thead>\n",
       "    <tr style=\"text-align: right;\">\n",
       "      <th></th>\n",
       "      <th>Gender</th>\n",
       "      <th>Age</th>\n",
       "      <th>Education level</th>\n",
       "      <th>Field of occupation</th>\n",
       "      <th>Occupation level</th>\n",
       "      <th>Assume that an AI system makes decisions for you in your day-to-day activities. How important is it to know the reasons behind such decisions?</th>\n",
       "    </tr>\n",
       "  </thead>\n",
       "  <tbody>\n",
       "    <tr>\n",
       "      <th>0</th>\n",
       "      <td>Female</td>\n",
       "      <td>31</td>\n",
       "      <td>Completed Undergraduate Degree</td>\n",
       "      <td>Architecture and Engineering</td>\n",
       "      <td>Entry level</td>\n",
       "      <td>Very important</td>\n",
       "    </tr>\n",
       "    <tr>\n",
       "      <th>1</th>\n",
       "      <td>Female</td>\n",
       "      <td>24</td>\n",
       "      <td>Completed Undergraduate Degree</td>\n",
       "      <td>Unoccupied</td>\n",
       "      <td>Unoccupied</td>\n",
       "      <td>Important</td>\n",
       "    </tr>\n",
       "    <tr>\n",
       "      <th>2</th>\n",
       "      <td>Female</td>\n",
       "      <td>31</td>\n",
       "      <td>Completed Undergraduate Degree</td>\n",
       "      <td>Computer and Mathematical</td>\n",
       "      <td>Student</td>\n",
       "      <td>Neutral</td>\n",
       "    </tr>\n",
       "    <tr>\n",
       "      <th>3</th>\n",
       "      <td>Female</td>\n",
       "      <td>26</td>\n",
       "      <td>Completed Undergraduate Degree</td>\n",
       "      <td>Computer and Mathematical</td>\n",
       "      <td>Unoccupied</td>\n",
       "      <td>Important</td>\n",
       "    </tr>\n",
       "    <tr>\n",
       "      <th>4</th>\n",
       "      <td>Male</td>\n",
       "      <td>32</td>\n",
       "      <td>Completed Undergraduate Degree</td>\n",
       "      <td>Other</td>\n",
       "      <td>Executive level</td>\n",
       "      <td>Very important</td>\n",
       "    </tr>\n",
       "  </tbody>\n",
       "</table>\n",
       "</div>"
      ],
      "text/plain": [
       "   Gender  Age                 Education level           Field of occupation  \\\n",
       "0  Female   31  Completed Undergraduate Degree  Architecture and Engineering   \n",
       "1  Female   24  Completed Undergraduate Degree                    Unoccupied   \n",
       "2  Female   31  Completed Undergraduate Degree     Computer and Mathematical   \n",
       "3  Female   26  Completed Undergraduate Degree     Computer and Mathematical   \n",
       "4    Male   32  Completed Undergraduate Degree                         Other   \n",
       "\n",
       "  Occupation level  \\\n",
       "0      Entry level   \n",
       "1       Unoccupied   \n",
       "2          Student   \n",
       "3       Unoccupied   \n",
       "4  Executive level   \n",
       "\n",
       "  Assume that an AI system makes decisions for you in your day-to-day activities. How important is it to know the reasons behind such decisions?  \n",
       "0                                     Very important                                                                                              \n",
       "1                                          Important                                                                                              \n",
       "2                                            Neutral                                                                                              \n",
       "3                                          Important                                                                                              \n",
       "4                                     Very important                                                                                              "
      ]
     },
     "execution_count": 6,
     "metadata": {},
     "output_type": "execute_result"
    }
   ],
   "source": [
    "df_xai.head()"
   ]
  },
  {
   "cell_type": "code",
   "execution_count": null,
   "id": "a8fe8c42",
   "metadata": {},
   "outputs": [],
   "source": [
    "# Display the summary statistics of the dataset\n",
    "print(df.describe(include=['object']))\n",
    "\n",
    "# Display the mean and standard deviation of the Age and Rating columns\n",
    "print(\"Mean Age:\", df[\"Age\"].mean())\n",
    "print(\"Std Age:\", df[\"Age\"].std())\n",
    "print(\"Mean Rating:\", df[\"Rating\"].mean())\n",
    "print(\"Std Rating:\", df[\"Rating\"].std())\n",
    "\n",
    "# Display the unique values of the Name column\n",
    "print(\"Unique Values of Name:\", df[\"Name\"].unique())\n",
    "\n",
    "# Display the frequency of each unique value in the Name column\n",
    "print(\"Frequency of Name:\", df[\"Name\"].value_counts())\n",
    "\n",
    "# Display the first 5 rows of the DataFrame\n",
    "print(df.head())\n",
    "\n",
    "# Display the last 3 rows of the DataFrame\n",
    "print(df.tail(3))\n",
    "\n",
    "# Display a random sample of 5 rows from the DataFrame\n",
    "print(df.sample(5))"
   ]
  },
  {
   "cell_type": "code",
   "execution_count": 7,
   "id": "17ba3502",
   "metadata": {},
   "outputs": [],
   "source": [
    "cat_features = df.select_dtypes(include=['object'])\n",
    "\n",
    "# select numerical features\n",
    "num_features = df.select_dtypes(include=['int64', 'float64'])"
   ]
  },
  {
   "cell_type": "code",
   "execution_count": 8,
   "id": "5d347903",
   "metadata": {},
   "outputs": [
    {
     "ename": "TypeError",
     "evalue": "crosstab() missing 1 required positional argument: 'columns'",
     "output_type": "error",
     "traceback": [
      "\u001b[1;31m---------------------------------------------------------------------------\u001b[0m",
      "\u001b[1;31mTypeError\u001b[0m                                 Traceback (most recent call last)",
      "\u001b[1;32m~\\AppData\\Local\\Temp/ipykernel_30264/781261352.py\u001b[0m in \u001b[0;36m<module>\u001b[1;34m\u001b[0m\n\u001b[0;32m      1\u001b[0m \u001b[1;31m# Calculate frequency and normalized frequency\u001b[0m\u001b[1;33m\u001b[0m\u001b[1;33m\u001b[0m\u001b[0m\n\u001b[1;32m----> 2\u001b[1;33m \u001b[0mfreq_table\u001b[0m \u001b[1;33m=\u001b[0m \u001b[0mpd\u001b[0m\u001b[1;33m.\u001b[0m\u001b[0mcrosstab\u001b[0m\u001b[1;33m(\u001b[0m\u001b[0mindex\u001b[0m\u001b[1;33m=\u001b[0m\u001b[0mdf\u001b[0m\u001b[1;33m[\u001b[0m\u001b[1;34m'Gender'\u001b[0m\u001b[1;33m]\u001b[0m\u001b[1;33m,\u001b[0m \u001b[0mnormalize\u001b[0m\u001b[1;33m=\u001b[0m\u001b[1;32mTrue\u001b[0m\u001b[1;33m)\u001b[0m\u001b[1;33m\u001b[0m\u001b[1;33m\u001b[0m\u001b[0m\n\u001b[0m\u001b[0;32m      3\u001b[0m \u001b[0mfreq_table\u001b[0m\u001b[1;33m.\u001b[0m\u001b[0mcolumns\u001b[0m \u001b[1;33m=\u001b[0m \u001b[1;33m[\u001b[0m\u001b[1;34m'Frequency'\u001b[0m\u001b[1;33m]\u001b[0m\u001b[1;33m\u001b[0m\u001b[1;33m\u001b[0m\u001b[0m\n\u001b[0;32m      4\u001b[0m \u001b[0mfreq_table\u001b[0m\u001b[1;33m[\u001b[0m\u001b[1;34m'Normalized Frequency'\u001b[0m\u001b[1;33m]\u001b[0m \u001b[1;33m=\u001b[0m \u001b[0mfreq_table\u001b[0m\u001b[1;33m[\u001b[0m\u001b[1;34m'Frequency'\u001b[0m\u001b[1;33m]\u001b[0m \u001b[1;33m*\u001b[0m \u001b[0mlen\u001b[0m\u001b[1;33m(\u001b[0m\u001b[0mdf\u001b[0m\u001b[1;33m[\u001b[0m\u001b[1;34m'Gender'\u001b[0m\u001b[1;33m]\u001b[0m\u001b[1;33m)\u001b[0m\u001b[1;33m\u001b[0m\u001b[1;33m\u001b[0m\u001b[0m\n\u001b[0;32m      5\u001b[0m \u001b[1;33m\u001b[0m\u001b[0m\n",
      "\u001b[1;31mTypeError\u001b[0m: crosstab() missing 1 required positional argument: 'columns'"
     ]
    }
   ],
   "source": [
    "# Calculate frequency and normalized frequency\n",
    "freq_table = pd.crosstab(index=df['Gender'], normalize=True)\n",
    "freq_table.columns = ['Frequency']\n",
    "freq_table['Normalized Frequency'] = freq_table['Frequency'] * len(df['Gender'])\n",
    "\n",
    "# Calculate mode\n",
    "mode_table = df['Gender'].mode().to_frame()\n",
    "mode_table['Mode'] = mode_table['Gender']\n",
    "\n",
    "# Calculate median\n",
    "median_table = pd.DataFrame({'Median': df['Gender'].median()})\n",
    "\n",
    "# Concatenate the tables\n",
    "result = pd.concat([freq_table, mode_table, median_table], axis=1)\n",
    "\n",
    "# Print the result\n",
    "print(result)"
   ]
  },
  {
   "cell_type": "code",
   "execution_count": null,
   "id": "ec217fd3",
   "metadata": {},
   "outputs": [],
   "source": [
    "import pandas as pd\n",
    "\n",
    "# Calculate frequency, cumulative frequency, mode, and median for each categorical feature\n",
    "freq_table = df['Education level'].value_counts()\n",
    "cum_freq_table = freq_table.cumsum()\n",
    "total = len(df['Education level'])\n",
    "norm_freq_table = freq_table / total\n",
    "norm_cum_freq_table = cum_freq_table / total\n",
    "mode_edu = df['Education level'].mode()[0]\n",
    "median_edu = df['Education level'].median()\n",
    "\n",
    "freq_table = df['Occupation level'].value_counts()\n",
    "cum_freq_table = freq_table.cumsum()\n",
    "total = len(df['Occupation level'])\n",
    "norm_freq_table = freq_table / total\n",
    "norm_cum_freq_table = cum_freq_table / total\n",
    "mode_occup = df['Occupation level'].mode()[0]\n",
    "median_occup = df['Occupation level'].median()\n",
    "\n",
    "freq_table = df['Importance'].value_counts()\n",
    "cum_freq_table = freq_table.cumsum()\n",
    "total = len(df['Importance'])\n",
    "norm_freq_table = freq_table / total\n",
    "norm_cum_freq_table = cum_freq_table / total\n",
    "mode_importance = df['Importance'].mode()[0]\n",
    "median_importance = df['Importance'].median()\n",
    "\n",
    "# Display the results\n",
    "print(\"Frequency, Normalized Frequency, Cumulative Frequency, and Normalized Cumulative Frequency of 'Edu level'\")\n",
    "print(freq_table)\n",
    "print(norm_freq_table)\n",
    "print(cum_freq_table)\n",
    "print(norm_cum_freq_table)\n",
    "print(\"Mode: \", mode_edu)\n",
    "print(\"Median: \", median_edu)\n",
    "\n",
    "print(\"\\nFrequency, Normalized Frequency, Cumulative Frequency, and Normalized Cumulative Frequency of 'Occup level'\")\n",
    "print(freq_table)\n",
    "print(norm_freq_table)\n",
    "print(cum_freq_table)\n",
    "print(norm_cum_freq_table)\n",
    "print(\"Mode: \", mode_occup)\n",
    "print(\"Median: \", median_occup)\n",
    "\n",
    "print(\"\\nFrequency, Normalized Frequency, Cumulative Frequency, and Normalized Cumulative Frequency of 'Importance'\")\n",
    "print(freq_table)\n",
    "print(norm_freq_table)\n",
    "print(cum_freq_table)\n",
    "print(norm_cum_freq_table)\n",
    "print(\"Mode: \", mode_importance)\n",
    "print(\"Median: \", median_importance)"
   ]
  }
 ],
 "metadata": {
  "kernelspec": {
   "display_name": "Python 3 (ipykernel)",
   "language": "python",
   "name": "python3"
  },
  "language_info": {
   "codemirror_mode": {
    "name": "ipython",
    "version": 3
   },
   "file_extension": ".py",
   "mimetype": "text/x-python",
   "name": "python",
   "nbconvert_exporter": "python",
   "pygments_lexer": "ipython3",
   "version": "3.9.7"
  }
 },
 "nbformat": 4,
 "nbformat_minor": 5
}
